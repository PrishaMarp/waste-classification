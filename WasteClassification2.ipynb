{
 "cells": [
  {
   "cell_type": "code",
   "execution_count": 1,
   "metadata": {},
   "outputs": [
    {
     "name": "stderr",
     "output_type": "stream",
     "text": [
      "/Users/prishamarpu/Library/Python/3.9/lib/python/site-packages/urllib3/__init__.py:34: NotOpenSSLWarning: urllib3 v2 only supports OpenSSL 1.1.1+, currently the 'ssl' module is compiled with 'LibreSSL 2.8.3'. See: https://github.com/urllib3/urllib3/issues/3020\n",
      "  warnings.warn(\n"
     ]
    }
   ],
   "source": [
    "import os\n",
    "import torch\n",
    "from torch import nn\n",
    "from torch.utils.data import DataLoader\n",
    "from torchvision import datasets, transforms\n",
    "from torch.optim import Adam\n",
    "from torch.autograd import Variable\n",
    "class ConvNet(nn.Module):\n",
    "    def __init__(self, num_classes = 2):\n",
    "        super(ConvNet, self).__init__()\n",
    "\n",
    "        #(64,3,150,150) \n",
    "        # self.conv1 = nn.Conv2d(in_channels=3, out_channels=12, kernel_size=3, stride=1, padding=1) #(64,12,150,150)\n",
    "        # self.bn1 = nn.BatchNorm2d(num_features=12) #(64,12,150,150)\n",
    "        # self.relu1 = nn.ReLU() #(64,12,150,150)\n",
    "        # self.pool = nn.MaxPool2d(kernel_size=2) #(64,12,75,75)\n",
    "\n",
    "        # self.conv2 = nn.Conv2d(in_channels=12, out_channels=20, kernel_size=3, stride=1, padding=1) #(64,20,75,75)\n",
    "        # self.relu2 = nn.ReLU() #(64,20,75,75)\n",
    "\n",
    "        # self.conv3 = nn.Conv2d(in_channels=20, out_channels=32, kernel_size=3, stride=1, padding=1) #(64,32,75,75)\n",
    "        # self.bn3 = nn.BatchNorm2d(num_features=32) #(64,32,75,75)\n",
    "        # self.relu3 = nn.ReLU() #(64,32,75,75)\n",
    "\n",
    "        # self.fc = nn.Linear(in_features=32*75*75, out_features=2)\n",
    "\n",
    "        self.conv1 = nn.Conv2d(in_channels=3, out_channels=12, kernel_size=3, stride=1, padding=1) #(64,12,150,150)\n",
    "        self.bn1 = nn.BatchNorm2d(num_features=12) #(64,12,150,150)\n",
    "        self.relu1 = nn.ReLU() #(64,12,150,150)\n",
    "        self.pool = nn.MaxPool2d(kernel_size=2) #(64,12,75,75)\n",
    "\n",
    "        self.conv3 = nn.Conv2d(in_channels=12, out_channels=32, kernel_size=3, stride=1, padding=1) #(64,32,75,75)\n",
    "        self.bn3 = nn.BatchNorm2d(num_features=32) #(64,32,75,75)\n",
    "        self.relu3 = nn.ReLU() #(64,32,75,75)\n",
    "\n",
    "        self.fc = nn.Linear(in_features=32*16*16, out_features=2)\n",
    "\n",
    "    def forward(self, input):\n",
    "        output = self.conv1(input)\n",
    "        output = self.bn1(output)\n",
    "        output = self.relu1(output)\n",
    "        output = self.pool(output)\n",
    "\n",
    "        #output = self.conv2(output)\n",
    "        #output = self.relu2(output)\n",
    "        output = self.conv3(output)\n",
    "        output = self.bn3(output)\n",
    "        output = self.relu3(output)\n",
    "\n",
    "        output = output.view(-1,32*16*16)\n",
    "        output = self.fc(output)\n",
    "        return output\n"
   ]
  },
  {
   "cell_type": "code",
   "execution_count": 2,
   "metadata": {},
   "outputs": [
    {
     "name": "stdout",
     "output_type": "stream",
     "text": [
      "ConvNet(\n",
      "  (conv1): Conv2d(3, 12, kernel_size=(3, 3), stride=(1, 1), padding=(1, 1))\n",
      "  (bn1): BatchNorm2d(12, eps=1e-05, momentum=0.1, affine=True, track_running_stats=True)\n",
      "  (relu1): ReLU()\n",
      "  (pool): MaxPool2d(kernel_size=2, stride=2, padding=0, dilation=1, ceil_mode=False)\n",
      "  (conv3): Conv2d(12, 32, kernel_size=(3, 3), stride=(1, 1), padding=(1, 1))\n",
      "  (bn3): BatchNorm2d(32, eps=1e-05, momentum=0.1, affine=True, track_running_stats=True)\n",
      "  (relu3): ReLU()\n",
      "  (fc): Linear(in_features=8192, out_features=2, bias=True)\n",
      ")\n"
     ]
    }
   ],
   "source": [
    "model1 = ConvNet(num_classes=2)\n",
    "model1 = model1.to('cpu')\n",
    "print(model1)"
   ]
  }
 ],
 "metadata": {
  "kernelspec": {
   "display_name": "Python 3",
   "language": "python",
   "name": "python3"
  },
  "language_info": {
   "codemirror_mode": {
    "name": "ipython",
    "version": 3
   },
   "file_extension": ".py",
   "mimetype": "text/x-python",
   "name": "python",
   "nbconvert_exporter": "python",
   "pygments_lexer": "ipython3",
   "version": "3.9.6"
  }
 },
 "nbformat": 4,
 "nbformat_minor": 2
}
